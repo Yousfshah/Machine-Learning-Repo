{
 "cells": [
  {
   "cell_type": "markdown",
   "id": "74169704",
   "metadata": {},
   "source": [
    "#### **Written by: Yousuf Shah**\n",
    "#### **Subject: Feature Normalization & Encoding**\n",
    "#### **Date: 07.01.2024**\n",
    "#### **Email: contact.ys09@gmail.com**"
   ]
  },
  {
   "cell_type": "markdown",
   "id": "f82c2e67",
   "metadata": {},
   "source": [
    "# Feature Normalization\n",
    "---"
   ]
  },
  {
   "cell_type": "code",
   "execution_count": 1,
   "id": "9138818a-7a94-4ee7-8225-6a2a89144da9",
   "metadata": {},
   "outputs": [],
   "source": [
    "# import libraries\n",
    "import pandas as pd\n",
    "import numpy as np\n",
    "import seaborn as sns\n",
    "import matplotlib.pyplot as plt"
   ]
  },
  {
   "cell_type": "markdown",
   "id": "0bb2a8c1-c7ac-432d-b78b-da9f0a842f0d",
   "metadata": {},
   "source": [
    "## 1. Standard Scalar Z-Score Normalization"
   ]
  },
  {
   "cell_type": "code",
   "execution_count": 2,
   "id": "1291136b-3d36-4657-a0ee-9a191cfd44bd",
   "metadata": {},
   "outputs": [],
   "source": [
    "# sample data\n",
    "data={'score':[10, 20, 30, 40, 50]}\n",
    "df=pd.DataFrame(data)"
   ]
  },
  {
   "cell_type": "code",
   "execution_count": 3,
   "id": "8ac029d4-86e2-4d82-8dcf-e06971bd9684",
   "metadata": {},
   "outputs": [],
   "source": [
    "# z-score scaling\n",
    "mean=df['score'].mean()\n",
    "std=df['score'].std()\n",
    "data_points=df"
   ]
  },
  {
   "cell_type": "code",
   "execution_count": 4,
   "id": "ff5fbeaa-ccf2-4439-9d55-408d11ac7c88",
   "metadata": {},
   "outputs": [
    {
     "data": {
      "text/html": [
       "<div>\n",
       "<style scoped>\n",
       "    .dataframe tbody tr th:only-of-type {\n",
       "        vertical-align: middle;\n",
       "    }\n",
       "\n",
       "    .dataframe tbody tr th {\n",
       "        vertical-align: top;\n",
       "    }\n",
       "\n",
       "    .dataframe thead th {\n",
       "        text-align: right;\n",
       "    }\n",
       "</style>\n",
       "<table border=\"1\" class=\"dataframe\">\n",
       "  <thead>\n",
       "    <tr style=\"text-align: right;\">\n",
       "      <th></th>\n",
       "      <th>score</th>\n",
       "    </tr>\n",
       "  </thead>\n",
       "  <tbody>\n",
       "    <tr>\n",
       "      <th>0</th>\n",
       "      <td>10</td>\n",
       "    </tr>\n",
       "    <tr>\n",
       "      <th>1</th>\n",
       "      <td>20</td>\n",
       "    </tr>\n",
       "    <tr>\n",
       "      <th>2</th>\n",
       "      <td>30</td>\n",
       "    </tr>\n",
       "    <tr>\n",
       "      <th>3</th>\n",
       "      <td>40</td>\n",
       "    </tr>\n",
       "    <tr>\n",
       "      <th>4</th>\n",
       "      <td>50</td>\n",
       "    </tr>\n",
       "  </tbody>\n",
       "</table>\n",
       "</div>"
      ],
      "text/plain": [
       "   score\n",
       "0     10\n",
       "1     20\n",
       "2     30\n",
       "3     40\n",
       "4     50"
      ]
     },
     "execution_count": 4,
     "metadata": {},
     "output_type": "execute_result"
    }
   ],
   "source": [
    "data_points"
   ]
  },
  {
   "cell_type": "code",
   "execution_count": 5,
   "id": "3086e545-2fbd-4cbd-9c5d-2af5d365fef0",
   "metadata": {},
   "outputs": [],
   "source": [
    "# formulla of z-score scaling\n",
    "z_score=(data_points-mean)/std"
   ]
  },
  {
   "cell_type": "code",
   "execution_count": 6,
   "id": "07adeddb-e29a-46c8-b099-f91e58dee762",
   "metadata": {},
   "outputs": [
    {
     "data": {
      "text/html": [
       "<div>\n",
       "<style scoped>\n",
       "    .dataframe tbody tr th:only-of-type {\n",
       "        vertical-align: middle;\n",
       "    }\n",
       "\n",
       "    .dataframe tbody tr th {\n",
       "        vertical-align: top;\n",
       "    }\n",
       "\n",
       "    .dataframe thead th {\n",
       "        text-align: right;\n",
       "    }\n",
       "</style>\n",
       "<table border=\"1\" class=\"dataframe\">\n",
       "  <thead>\n",
       "    <tr style=\"text-align: right;\">\n",
       "      <th></th>\n",
       "      <th>score</th>\n",
       "    </tr>\n",
       "  </thead>\n",
       "  <tbody>\n",
       "    <tr>\n",
       "      <th>0</th>\n",
       "      <td>-1.264911</td>\n",
       "    </tr>\n",
       "    <tr>\n",
       "      <th>1</th>\n",
       "      <td>-0.632456</td>\n",
       "    </tr>\n",
       "    <tr>\n",
       "      <th>2</th>\n",
       "      <td>0.000000</td>\n",
       "    </tr>\n",
       "    <tr>\n",
       "      <th>3</th>\n",
       "      <td>0.632456</td>\n",
       "    </tr>\n",
       "    <tr>\n",
       "      <th>4</th>\n",
       "      <td>1.264911</td>\n",
       "    </tr>\n",
       "  </tbody>\n",
       "</table>\n",
       "</div>"
      ],
      "text/plain": [
       "      score\n",
       "0 -1.264911\n",
       "1 -0.632456\n",
       "2  0.000000\n",
       "3  0.632456\n",
       "4  1.264911"
      ]
     },
     "execution_count": 6,
     "metadata": {},
     "output_type": "execute_result"
    }
   ],
   "source": [
    "# showing result\n",
    "z_score"
   ]
  },
  {
   "cell_type": "markdown",
   "id": "b0abc5a2-9cce-4d61-9eef-e707ab7af853",
   "metadata": {},
   "source": [
    "## 2. Min Max Scaling"
   ]
  },
  {
   "cell_type": "code",
   "execution_count": 7,
   "id": "80811b70-2dfc-4ae5-a423-9ab4b2856685",
   "metadata": {},
   "outputs": [],
   "source": [
    "# min max scaling and there formulla\n",
    "min_max_scaling=(data_points-data_points['score'].min())/(data_points['score'].max()-data_points['score'].min())"
   ]
  },
  {
   "cell_type": "code",
   "execution_count": 8,
   "id": "39e1a6d8-3d5e-4efe-8382-11e08b456aed",
   "metadata": {},
   "outputs": [
    {
     "data": {
      "text/html": [
       "<div>\n",
       "<style scoped>\n",
       "    .dataframe tbody tr th:only-of-type {\n",
       "        vertical-align: middle;\n",
       "    }\n",
       "\n",
       "    .dataframe tbody tr th {\n",
       "        vertical-align: top;\n",
       "    }\n",
       "\n",
       "    .dataframe thead th {\n",
       "        text-align: right;\n",
       "    }\n",
       "</style>\n",
       "<table border=\"1\" class=\"dataframe\">\n",
       "  <thead>\n",
       "    <tr style=\"text-align: right;\">\n",
       "      <th></th>\n",
       "      <th>score</th>\n",
       "    </tr>\n",
       "  </thead>\n",
       "  <tbody>\n",
       "    <tr>\n",
       "      <th>0</th>\n",
       "      <td>0.00</td>\n",
       "    </tr>\n",
       "    <tr>\n",
       "      <th>1</th>\n",
       "      <td>0.25</td>\n",
       "    </tr>\n",
       "    <tr>\n",
       "      <th>2</th>\n",
       "      <td>0.50</td>\n",
       "    </tr>\n",
       "    <tr>\n",
       "      <th>3</th>\n",
       "      <td>0.75</td>\n",
       "    </tr>\n",
       "    <tr>\n",
       "      <th>4</th>\n",
       "      <td>1.00</td>\n",
       "    </tr>\n",
       "  </tbody>\n",
       "</table>\n",
       "</div>"
      ],
      "text/plain": [
       "   score\n",
       "0   0.00\n",
       "1   0.25\n",
       "2   0.50\n",
       "3   0.75\n",
       "4   1.00"
      ]
     },
     "execution_count": 8,
     "metadata": {},
     "output_type": "execute_result"
    }
   ],
   "source": [
    "# showing result\n",
    "min_max_scaling"
   ]
  },
  {
   "cell_type": "markdown",
   "id": "e93981b8-83f1-47af-b8ac-92901f6cf035",
   "metadata": {},
   "source": [
    "## 3. Robust Scaling"
   ]
  },
  {
   "cell_type": "code",
   "execution_count": 9,
   "id": "693c7db5-0c6d-4860-8974-f21638646298",
   "metadata": {},
   "outputs": [
    {
     "data": {
      "text/html": [
       "<div>\n",
       "<style scoped>\n",
       "    .dataframe tbody tr th:only-of-type {\n",
       "        vertical-align: middle;\n",
       "    }\n",
       "\n",
       "    .dataframe tbody tr th {\n",
       "        vertical-align: top;\n",
       "    }\n",
       "\n",
       "    .dataframe thead th {\n",
       "        text-align: right;\n",
       "    }\n",
       "</style>\n",
       "<table border=\"1\" class=\"dataframe\">\n",
       "  <thead>\n",
       "    <tr style=\"text-align: right;\">\n",
       "      <th></th>\n",
       "      <th>score</th>\n",
       "    </tr>\n",
       "  </thead>\n",
       "  <tbody>\n",
       "    <tr>\n",
       "      <th>0</th>\n",
       "      <td>1.0</td>\n",
       "    </tr>\n",
       "    <tr>\n",
       "      <th>1</th>\n",
       "      <td>0.5</td>\n",
       "    </tr>\n",
       "    <tr>\n",
       "      <th>2</th>\n",
       "      <td>-0.0</td>\n",
       "    </tr>\n",
       "    <tr>\n",
       "      <th>3</th>\n",
       "      <td>-0.5</td>\n",
       "    </tr>\n",
       "    <tr>\n",
       "      <th>4</th>\n",
       "      <td>-1.0</td>\n",
       "    </tr>\n",
       "  </tbody>\n",
       "</table>\n",
       "</div>"
      ],
      "text/plain": [
       "   score\n",
       "0    1.0\n",
       "1    0.5\n",
       "2   -0.0\n",
       "3   -0.5\n",
       "4   -1.0"
      ]
     },
     "execution_count": 9,
     "metadata": {},
     "output_type": "execute_result"
    }
   ],
   "source": [
    "# Data Points\n",
    "data_points=df\n",
    "# Find Median \n",
    "median=df['score'].median()\n",
    "# First Quartile\n",
    "Q1=df.quantile(0.25)\n",
    "# Third Quartile\n",
    "Q3=df.quantile(0.75)\n",
    "# Inter Quartile Range\n",
    "IQR=Q1-Q3\n",
    "# Formulla of Robust Scaling\n",
    "robust_scaling=(data_points-median)/IQR\n",
    "# Showing result\n",
    "robust_scaling"
   ]
  },
  {
   "cell_type": "code",
   "execution_count": 10,
   "id": "c6bc85b4-6b38-4f80-8b56-f1dcc3502be4",
   "metadata": {},
   "outputs": [
    {
     "data": {
      "text/html": [
       "<div>\n",
       "<style scoped>\n",
       "    .dataframe tbody tr th:only-of-type {\n",
       "        vertical-align: middle;\n",
       "    }\n",
       "\n",
       "    .dataframe tbody tr th {\n",
       "        vertical-align: top;\n",
       "    }\n",
       "\n",
       "    .dataframe thead th {\n",
       "        text-align: right;\n",
       "    }\n",
       "</style>\n",
       "<table border=\"1\" class=\"dataframe\">\n",
       "  <thead>\n",
       "    <tr style=\"text-align: right;\">\n",
       "      <th></th>\n",
       "      <th>value</th>\n",
       "      <th>robust_value</th>\n",
       "    </tr>\n",
       "  </thead>\n",
       "  <tbody>\n",
       "    <tr>\n",
       "      <th>0</th>\n",
       "      <td>10</td>\n",
       "      <td>-1.0</td>\n",
       "    </tr>\n",
       "    <tr>\n",
       "      <th>1</th>\n",
       "      <td>20</td>\n",
       "      <td>-0.6</td>\n",
       "    </tr>\n",
       "    <tr>\n",
       "      <th>2</th>\n",
       "      <td>30</td>\n",
       "      <td>-0.2</td>\n",
       "    </tr>\n",
       "    <tr>\n",
       "      <th>3</th>\n",
       "      <td>40</td>\n",
       "      <td>0.2</td>\n",
       "    </tr>\n",
       "    <tr>\n",
       "      <th>4</th>\n",
       "      <td>50</td>\n",
       "      <td>0.6</td>\n",
       "    </tr>\n",
       "    <tr>\n",
       "      <th>5</th>\n",
       "      <td>10000</td>\n",
       "      <td>398.6</td>\n",
       "    </tr>\n",
       "  </tbody>\n",
       "</table>\n",
       "</div>"
      ],
      "text/plain": [
       "   value  robust_value\n",
       "0     10          -1.0\n",
       "1     20          -0.6\n",
       "2     30          -0.2\n",
       "3     40           0.2\n",
       "4     50           0.6\n",
       "5  10000         398.6"
      ]
     },
     "execution_count": 10,
     "metadata": {},
     "output_type": "execute_result"
    }
   ],
   "source": [
    "import pandas as pd\n",
    "from sklearn.preprocessing import RobustScaler\n",
    "\n",
    "# sample data with outliers\n",
    "data = {\n",
    "    'value': [10, 20, 30, 40, 50, 10000]\n",
    "}\n",
    "df = pd.DataFrame(data)\n",
    "\n",
    "# Robust Scaling\n",
    "scaler = RobustScaler()\n",
    "df['robust_value'] = scaler.fit_transform(df[['value']])\n",
    "\n",
    "df\n",
    "\n",
    "\n"
   ]
  },
  {
   "cell_type": "markdown",
   "id": "6ff7e797-2c6b-485e-a22b-2f8059b57fb6",
   "metadata": {},
   "source": [
    "## 4. Logrithmic scaling/ Normalization"
   ]
  },
  {
   "cell_type": "code",
   "execution_count": 11,
   "id": "8ab7edad-c689-4a8b-9bb9-4904de9c8ac8",
   "metadata": {},
   "outputs": [
    {
     "data": {
      "text/html": [
       "<div>\n",
       "<style scoped>\n",
       "    .dataframe tbody tr th:only-of-type {\n",
       "        vertical-align: middle;\n",
       "    }\n",
       "\n",
       "    .dataframe tbody tr th {\n",
       "        vertical-align: top;\n",
       "    }\n",
       "\n",
       "    .dataframe thead th {\n",
       "        text-align: right;\n",
       "    }\n",
       "</style>\n",
       "<table border=\"1\" class=\"dataframe\">\n",
       "  <thead>\n",
       "    <tr style=\"text-align: right;\">\n",
       "      <th></th>\n",
       "      <th>big_numbers</th>\n",
       "      <th>log_numbers</th>\n",
       "      <th>log2_numbers</th>\n",
       "      <th>log10_numbers</th>\n",
       "    </tr>\n",
       "  </thead>\n",
       "  <tbody>\n",
       "    <tr>\n",
       "      <th>0</th>\n",
       "      <td>10000</td>\n",
       "      <td>9.210340</td>\n",
       "      <td>13.287712</td>\n",
       "      <td>4.000000</td>\n",
       "    </tr>\n",
       "    <tr>\n",
       "      <th>1</th>\n",
       "      <td>20000</td>\n",
       "      <td>9.903488</td>\n",
       "      <td>14.287712</td>\n",
       "      <td>4.301030</td>\n",
       "    </tr>\n",
       "    <tr>\n",
       "      <th>2</th>\n",
       "      <td>30000</td>\n",
       "      <td>10.308953</td>\n",
       "      <td>14.872675</td>\n",
       "      <td>4.477121</td>\n",
       "    </tr>\n",
       "    <tr>\n",
       "      <th>3</th>\n",
       "      <td>1000000</td>\n",
       "      <td>13.815511</td>\n",
       "      <td>19.931569</td>\n",
       "      <td>6.000000</td>\n",
       "    </tr>\n",
       "    <tr>\n",
       "      <th>4</th>\n",
       "      <td>50000</td>\n",
       "      <td>10.819778</td>\n",
       "      <td>15.609640</td>\n",
       "      <td>4.698970</td>\n",
       "    </tr>\n",
       "  </tbody>\n",
       "</table>\n",
       "</div>"
      ],
      "text/plain": [
       "   big_numbers  log_numbers  log2_numbers  log10_numbers\n",
       "0        10000     9.210340     13.287712       4.000000\n",
       "1        20000     9.903488     14.287712       4.301030\n",
       "2        30000    10.308953     14.872675       4.477121\n",
       "3      1000000    13.815511     19.931569       6.000000\n",
       "4        50000    10.819778     15.609640       4.698970"
      ]
     },
     "execution_count": 11,
     "metadata": {},
     "output_type": "execute_result"
    }
   ],
   "source": [
    "#random data with outliers\n",
    "data = {'big_numbers': [10000, 20000, 30000, 1000000, 50000]}\n",
    "df = pd.DataFrame(data)\n",
    "df['log_numbers']=np.log(df['big_numbers'])\n",
    "df['log2_numbers']=np.log2(df['big_numbers'])\n",
    "df['log10_numbers']=np.log10(df['big_numbers'])\n",
    "df"
   ]
  },
  {
   "cell_type": "markdown",
   "id": "f32dd9b8-4545-4f23-9183-13bfcfbf33a1",
   "metadata": {},
   "source": [
    "# feature Encoding"
   ]
  },
  {
   "cell_type": "markdown",
   "id": "fbddfd07-0264-4efd-8c38-0a0d5fb58a7e",
   "metadata": {},
   "source": [
    "## 1. One hot encoding"
   ]
  },
  {
   "cell_type": "code",
   "execution_count": 12,
   "id": "d00a2089-518f-4845-8f9d-960135f3ac53",
   "metadata": {},
   "outputs": [
    {
     "name": "stdout",
     "output_type": "stream",
     "text": [
      "   Color\n",
      "0    Red\n",
      "1  Green\n",
      "2   Blue\n",
      "3    Red\n",
      "   Color_Blue  Color_Green  Color_Red\n",
      "0       False        False       True\n",
      "1       False         True      False\n",
      "2        True        False      False\n",
      "3       False        False       True\n"
     ]
    }
   ],
   "source": [
    "# Sample data\n",
    "data = {'Color': ['Red', 'Green', 'Blue', 'Red']}\n",
    "df = pd.DataFrame(data)\n",
    "print(df.head())\n",
    "# One hot encoding\n",
    "encoded_data=pd.get_dummies(df, columns=['Color'])\n",
    "print(encoded_data)"
   ]
  },
  {
   "cell_type": "markdown",
   "id": "282d5b7e-64ff-4a3a-ae46-1330ae45bbbf",
   "metadata": {},
   "source": [
    " # 2. Label Encoding"
   ]
  },
  {
   "cell_type": "code",
   "execution_count": 13,
   "id": "ce95ed6d-b5cd-4940-887b-13e5188daa44",
   "metadata": {},
   "outputs": [
    {
     "name": "stdout",
     "output_type": "stream",
     "text": [
      "   Color    animal\n",
      "0    Red       cat\n",
      "1  Green       dog\n",
      "2   Blue  elephant\n",
      "3    Red      lion\n",
      "   Color    animal  encoded_column_color  encoded_column_animal\n",
      "0    Red       cat                     2                      2\n",
      "1  Green       dog                     1                      1\n",
      "2   Blue  elephant                     0                      0\n",
      "3    Red      lion                     2                      2\n"
     ]
    }
   ],
   "source": [
    "from sklearn.preprocessing import LabelEncoder\n",
    "# Sample data\n",
    "data = {'Color': ['Red', 'Green', 'Blue', 'Red'],\n",
    "       'animal':['cat','dog','elephant','lion']}\n",
    "\n",
    "df = pd.DataFrame(data)\n",
    "print(df.head())\n",
    "# Label encoding\n",
    "label_encoding=LabelEncoder()\n",
    "df['encoded_column_color']=label_encoding.fit_transform(df['Color'])\n",
    "df['encoded_column_animal']=label_encoding.fit_transform(df['Color'])\n",
    "\n",
    "print(df.head())"
   ]
  },
  {
   "cell_type": "markdown",
   "id": "ef161a96-2fdb-48a6-892a-be20dcf2bfc5",
   "metadata": {},
   "source": [
    "# 3. Ordinal Encoding"
   ]
  },
  {
   "cell_type": "code",
   "execution_count": 14,
   "id": "f0674c22-7394-4bb1-98d0-4512b61f6cd4",
   "metadata": {},
   "outputs": [
    {
     "name": "stdout",
     "output_type": "stream",
     "text": [
      "     Size\n",
      "0   Small\n",
      "1  Medium\n",
      "2   Large\n",
      "3  Medium\n"
     ]
    },
    {
     "data": {
      "text/html": [
       "<div>\n",
       "<style scoped>\n",
       "    .dataframe tbody tr th:only-of-type {\n",
       "        vertical-align: middle;\n",
       "    }\n",
       "\n",
       "    .dataframe tbody tr th {\n",
       "        vertical-align: top;\n",
       "    }\n",
       "\n",
       "    .dataframe thead th {\n",
       "        text-align: right;\n",
       "    }\n",
       "</style>\n",
       "<table border=\"1\" class=\"dataframe\">\n",
       "  <thead>\n",
       "    <tr style=\"text-align: right;\">\n",
       "      <th></th>\n",
       "      <th>Size</th>\n",
       "      <th>ordinal_encoded</th>\n",
       "    </tr>\n",
       "  </thead>\n",
       "  <tbody>\n",
       "    <tr>\n",
       "      <th>0</th>\n",
       "      <td>Small</td>\n",
       "      <td>0.0</td>\n",
       "    </tr>\n",
       "    <tr>\n",
       "      <th>1</th>\n",
       "      <td>Medium</td>\n",
       "      <td>1.0</td>\n",
       "    </tr>\n",
       "    <tr>\n",
       "      <th>2</th>\n",
       "      <td>Large</td>\n",
       "      <td>2.0</td>\n",
       "    </tr>\n",
       "    <tr>\n",
       "      <th>3</th>\n",
       "      <td>Medium</td>\n",
       "      <td>1.0</td>\n",
       "    </tr>\n",
       "  </tbody>\n",
       "</table>\n",
       "</div>"
      ],
      "text/plain": [
       "     Size  ordinal_encoded\n",
       "0   Small              0.0\n",
       "1  Medium              1.0\n",
       "2   Large              2.0\n",
       "3  Medium              1.0"
      ]
     },
     "execution_count": 14,
     "metadata": {},
     "output_type": "execute_result"
    }
   ],
   "source": [
    "from sklearn.preprocessing import OrdinalEncoder\n",
    "# Sample data\n",
    "data = {'Size': ['Small', 'Medium', 'Large', 'Medium']}\n",
    "df = pd.DataFrame(data)\n",
    "print(df)\n",
    "# Ordinal Encoding\n",
    "ordinal_encoding=OrdinalEncoder(categories=[['Small','Medium','Large']])\n",
    "df['ordinal_encoded']=ordinal_encoding.fit_transform(df[['Size']])\n",
    "df.head()\n"
   ]
  },
  {
   "cell_type": "code",
   "execution_count": null,
   "id": "56bc1bcc-67d4-48ac-be1e-246b25199aac",
   "metadata": {},
   "outputs": [],
   "source": []
  }
 ],
 "metadata": {
  "kernelspec": {
   "display_name": "Python 3 (ipykernel)",
   "language": "python",
   "name": "python3"
  },
  "language_info": {
   "codemirror_mode": {
    "name": "ipython",
    "version": 3
   },
   "file_extension": ".py",
   "mimetype": "text/x-python",
   "name": "python",
   "nbconvert_exporter": "python",
   "pygments_lexer": "ipython3",
   "version": "3.12.1"
  }
 },
 "nbformat": 4,
 "nbformat_minor": 5
}
